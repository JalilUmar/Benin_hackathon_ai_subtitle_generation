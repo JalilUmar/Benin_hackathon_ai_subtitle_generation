{
 "cells": [
  {
   "cell_type": "code",
   "execution_count": 1,
   "metadata": {},
   "outputs": [
    {
     "name": "stdout",
     "output_type": "stream",
     "text": [
      "Requirement already satisfied: requests in /Users/jalilumar/miniconda3/envs/oop-py/lib/python3.11/site-packages (2.31.0)\n",
      "Requirement already satisfied: charset-normalizer<4,>=2 in /Users/jalilumar/miniconda3/envs/oop-py/lib/python3.11/site-packages (from requests) (3.3.2)\n",
      "Requirement already satisfied: idna<4,>=2.5 in /Users/jalilumar/miniconda3/envs/oop-py/lib/python3.11/site-packages (from requests) (3.6)\n",
      "Requirement already satisfied: urllib3<3,>=1.21.1 in /Users/jalilumar/miniconda3/envs/oop-py/lib/python3.11/site-packages (from requests) (2.2.1)\n",
      "Requirement already satisfied: certifi>=2017.4.17 in /Users/jalilumar/miniconda3/envs/oop-py/lib/python3.11/site-packages (from requests) (2024.2.2)\n",
      "Note: you may need to restart the kernel to use updated packages.\n"
     ]
    }
   ],
   "source": [
    "%pip install requests"
   ]
  },
  {
   "cell_type": "code",
   "execution_count": 12,
   "metadata": {},
   "outputs": [],
   "source": [
    "import requests\n",
    "\n",
    "response = requests.post(\n",
    "    f\"https://api.stability.ai/v2beta/stable-image/generate/sd3\",\n",
    "    headers={\n",
    "        \"authorization\": f\"Bearer sk-zYHp6758umgw5prk64R768c0rmbL4eHFSGho3e6EXAtZQlBz\",\n",
    "        \"accept\": \"image/*\"\n",
    "    },\n",
    "    files={\"none\": ''},\n",
    "    data={\n",
    "        \"prompt\": \"A romantic song poster\",\n",
    "        \"output_format\": \"jpeg\",\n",
    "    },\n",
    "    \n",
    ")\n",
    "\n",
    "if response.status_code == 200:\n",
    "    with open(\"./dog-wearing-glasses.jpeg\", 'wb') as file:\n",
    "        file.write(response.content)\n",
    "else:\n",
    "    raise Exception(str(response.json()))"
   ]
  },
  {
   "cell_type": "code",
   "execution_count": null,
   "metadata": {},
   "outputs": [],
   "source": []
  }
 ],
 "metadata": {
  "kernelspec": {
   "display_name": "oop-py",
   "language": "python",
   "name": "python3"
  },
  "language_info": {
   "codemirror_mode": {
    "name": "ipython",
    "version": 3
   },
   "file_extension": ".py",
   "mimetype": "text/x-python",
   "name": "python",
   "nbconvert_exporter": "python",
   "pygments_lexer": "ipython3",
   "version": "3.11.8"
  }
 },
 "nbformat": 4,
 "nbformat_minor": 2
}
